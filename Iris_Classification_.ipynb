{
  "nbformat": 4,
  "nbformat_minor": 0,
  "metadata": {
    "colab": {
      "name": "Iris-Classification.",
      "provenance": [],
      "collapsed_sections": [],
      "include_colab_link": true
    },
    "kernelspec": {
      "display_name": "Python 3",
      "name": "python3"
    }
  },
  "cells": [
    {
      "cell_type": "markdown",
      "metadata": {
        "id": "view-in-github",
        "colab_type": "text"
      },
      "source": [
        "<a href=\"https://colab.research.google.com/github/LeahN67/Pattern_recognition/blob/main/Iris_Classification_.ipynb\" target=\"_parent\"><img src=\"https://colab.research.google.com/assets/colab-badge.svg\" alt=\"Open In Colab\"/></a>"
      ]
    },
    {
      "cell_type": "code",
      "metadata": {
        "id": "g21b4snAy6I6"
      },
      "source": [
        "#Required libraries...\r\n",
        "import pandas as pd\r\n",
        "from sklearn.linear_model import LogisticRegression\r\n",
        "from sklearn.model_selection import train_test_split\r\n",
        "from sklearn.preprocessing import LabelEncoder\r\n",
        "from sklearn.pipeline import make_pipeline\r\n",
        "from sklearn.preprocessing import StandardScaler\r\n",
        "from sklearn import preprocessing\r\n",
        "from sklearn.metrics import accuracy_score\r\n"
      ],
      "execution_count": null,
      "outputs": []
    },
    {
      "cell_type": "code",
      "metadata": {
        "id": "3EwtstuRy9rT"
      },
      "source": [
        "#Load csv file into colab...\r\n",
        "from google.colab import drive\r\n",
        "drive.mount('/content/drive')"
      ],
      "execution_count": null,
      "outputs": []
    },
    {
      "cell_type": "code",
      "metadata": {
        "id": "LCsOHH7VzVA3"
      },
      "source": [
        "#Read the file in pandas...\r\n",
        "iris_data= pd.read_csv( r'/content/drive/My Drive/Practice/Iris.csv')\r\n",
        "print(iris_data.head())\r\n",
        "\r\n",
        "\r\n",
        "\r\n"
      ],
      "execution_count": null,
      "outputs": []
    },
    {
      "cell_type": "code",
      "metadata": {
        "id": "JAvtS1l07kqq"
      },
      "source": [
        "#Retrieve the column labels of the DataFrame.\r\n",
        "print('\\nColumn Names\\n')\r\n",
        "print(iris_data.columns)"
      ],
      "execution_count": null,
      "outputs": []
    },
    {
      "cell_type": "code",
      "metadata": {
        "id": "TvIWdoig-MGj"
      },
      "source": [
        "#label encode the target variable\r\n",
        "encode = LabelEncoder()\r\n",
        "iris_data.Species = encode.fit_transform(iris_data.Species)\r\n",
        "print(iris_data.Species)\r\n"
      ],
      "execution_count": null,
      "outputs": []
    },
    {
      "cell_type": "code",
      "metadata": {
        "id": "0PKpmZFb_g9H"
      },
      "source": [
        "print(iris_data.head())"
      ],
      "execution_count": null,
      "outputs": []
    },
    {
      "cell_type": "code",
      "metadata": {
        "id": "5SPePf-B_rge"
      },
      "source": [
        "# train-test-split  \r\n",
        "train , test = train_test_split(iris_data,test_size=0.2,random_state=0)\r\n",
        "\r\n",
        "print('shape of training data : ',train.shape)\r\n",
        "print('shape of training data : ',test.shape)\r\n",
        "scaler = preprocessing.StandardScaler().fit(train)\r\n",
        "scaler \r\n",
        "StandardScaler()\r\n",
        "scaler.mean_\r\n",
        "\r\n",
        "\r\n",
        "scaler = preprocessing.StandardScaler().fit(test)\r\n",
        "scaler \r\n",
        "StandardScaler()\r\n",
        "\r\n"
      ],
      "execution_count": null,
      "outputs": []
    },
    {
      "cell_type": "code",
      "metadata": {
        "id": "mQJFc-YqBJTW"
      },
      "source": [
        "# Seperate the target and independent variable\r\n",
        "train_x = train.drop(columns=['Species'],axis=1)\r\n",
        "\r\n",
        "train_y=train['Species']\r\n",
        "print(train_y)\r\n"
      ],
      "execution_count": null,
      "outputs": []
    },
    {
      "cell_type": "code",
      "metadata": {
        "id": "Al2PYoeaCYk8"
      },
      "source": [
        "test_x = test.drop(columns=['Species'],axis=1)\r\n",
        "\r\n",
        "test_y = test['Species']\r\n",
        "print(test_y)\r\n",
        "\r\n"
      ],
      "execution_count": null,
      "outputs": []
    },
    {
      "cell_type": "code",
      "metadata": {
        "id": "ldN-OQVuCvZr"
      },
      "source": [
        "# Create the object of the model\r\n",
        "model = LogisticRegression()\r\n",
        "\r\n",
        "model.fit(train_x,train_y)"
      ],
      "execution_count": null,
      "outputs": []
    },
    {
      "cell_type": "code",
      "metadata": {
        "id": "Efc0U737S_3x"
      },
      "source": [
        "predict = model.predict(test_x)\r\n"
      ],
      "execution_count": null,
      "outputs": []
    },
    {
      "cell_type": "code",
      "metadata": {
        "id": "TerbKGAATRlj"
      },
      "source": [
        "print('Predicted Values on Test Data',encode.inverse_transform(predict))\r\n",
        "\r\n",
        "print('\\n\\nAccuracy Score on test data : \\n\\n')\r\n",
        "print(accuracy_score(test_y,predict))"
      ],
      "execution_count": null,
      "outputs": []
    }
  ]
}